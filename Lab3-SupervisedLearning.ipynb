{
 "cells": [
  {
   "cell_type": "markdown",
   "metadata": {},
   "source": [
    "# Lab 3: Supervised learning"
   ]
  },
  {
   "cell_type": "markdown",
   "metadata": {},
   "source": [
    "This lab shows how to run simple classification models using the scikit-learn library. In this lab, you will learn how to build different classification models on a given training set and then apply them to predict the classes on a test set. This lab will also show you how to derive accuracy from the test set, one of the most famous performance measures."
   ]
  },
  {
   "cell_type": "markdown",
   "metadata": {},
   "source": [
    "### Contents\n",
    "- 3-1. Supervised learning models using scikit-learn\n",
    "  - Perceptron\n",
    "  - K-nearest neighbors\n",
    "  - Decision tree\n",
    "  - Support vector machines\n",
    "\n",
    "- 3-2. Manual implementation\n",
    "  - Perceptron\n",
    "  - K-nearest neighbors"
   ]
  },
  {
   "cell_type": "markdown",
   "metadata": {},
   "source": [
    "## 3-1. Supervised learning models  using scikit-learn "
   ]
  },
  {
   "cell_type": "markdown",
   "metadata": {},
   "source": [
    "You may already know basic concepts of scikit-learn from the previous labs. We will keep the same format, but now our task is **supervised learning**, which means we now deal with the datasets with answers.\n",
    "\n",
    "To use scikit-learn, we do not need to rely on python syntax such as functions or classes; rather, we just load and call the methods provided by the library directly on the console.\n",
    "We will use **Connectionist Bench** from UCI Machine Learning Repository, which can be downloaded [here](https://archive.ics.uci.edu/ml/machine-learning-databases/undocumented/connectionist-bench/sonar/sonar.all-data). We already located the dataset into **datasets** directory, so you can also simply include it from there. This dataset has two classes: ***Mines***, ***Rocks*** with 60 attributes representing each data entity. More information can be found [here](https://archive.ics.uci.edu/ml/datasets/Connectionist+Bench+(Sonar,+Mines+vs.+Rocks))."
   ]
  },
  {
   "cell_type": "markdown",
   "metadata": {},
   "source": [
    "#### Load the libraries\n",
    "\n",
    "Basic libraries used throughout this lab session. Random seed is set to ensure the same results with the instructor's ones."
   ]
  },
  {
   "cell_type": "code",
   "execution_count": 2,
   "metadata": {},
   "outputs": [
    {
     "name": "stderr",
     "output_type": "stream",
     "text": [
      "Fontconfig warning: ignoring UTF-8: not a valid region tag\n"
     ]
    }
   ],
   "source": [
    "import pandas as pd\n",
    "import numpy as np\n",
    "import matplotlib.pyplot as plt\n",
    "RANDOM_SEED = 12345"
   ]
  },
  {
   "cell_type": "markdown",
   "metadata": {},
   "source": [
    "#### Load the data"
   ]
  },
  {
   "cell_type": "markdown",
   "metadata": {},
   "source": [
    "The first thing you need to do is to load the data and check if it's correctly loaded. We will use a simple pandas method called **read_csv** to load csv-like datasets - datasets with a unique separator such as comma (,) or tab (   ). Since there is no header of the table in the dataset, you need to choose not to use the first row as a set of column names. \n",
    "\n",
    "* The dataset is located in the **datasets** directory and its name is **sonar.all-data**.\n",
    "\n",
    "* header parameter should be provided."
   ]
  },
  {
   "cell_type": "code",
   "execution_count": 3,
   "metadata": {},
   "outputs": [],
   "source": [
    "data = pd.read_csv(\"datasets/sonar.all-data\", header = None)"
   ]
  },
  {
   "cell_type": "markdown",
   "metadata": {},
   "source": [
    "You can always check whether the shape of data by looking at the first five rows using the **head** method.\n",
    "\n",
    "* DataFrame.head()"
   ]
  },
  {
   "cell_type": "code",
   "execution_count": 4,
   "metadata": {},
   "outputs": [
    {
     "data": {
      "text/html": [
       "<div>\n",
       "<style scoped>\n",
       "    .dataframe tbody tr th:only-of-type {\n",
       "        vertical-align: middle;\n",
       "    }\n",
       "\n",
       "    .dataframe tbody tr th {\n",
       "        vertical-align: top;\n",
       "    }\n",
       "\n",
       "    .dataframe thead th {\n",
       "        text-align: right;\n",
       "    }\n",
       "</style>\n",
       "<table border=\"1\" class=\"dataframe\">\n",
       "  <thead>\n",
       "    <tr style=\"text-align: right;\">\n",
       "      <th></th>\n",
       "      <th>0</th>\n",
       "      <th>1</th>\n",
       "      <th>2</th>\n",
       "      <th>3</th>\n",
       "      <th>4</th>\n",
       "      <th>5</th>\n",
       "      <th>6</th>\n",
       "      <th>7</th>\n",
       "      <th>8</th>\n",
       "      <th>9</th>\n",
       "      <th>...</th>\n",
       "      <th>51</th>\n",
       "      <th>52</th>\n",
       "      <th>53</th>\n",
       "      <th>54</th>\n",
       "      <th>55</th>\n",
       "      <th>56</th>\n",
       "      <th>57</th>\n",
       "      <th>58</th>\n",
       "      <th>59</th>\n",
       "      <th>60</th>\n",
       "    </tr>\n",
       "  </thead>\n",
       "  <tbody>\n",
       "    <tr>\n",
       "      <th>0</th>\n",
       "      <td>0.0200</td>\n",
       "      <td>0.0371</td>\n",
       "      <td>0.0428</td>\n",
       "      <td>0.0207</td>\n",
       "      <td>0.0954</td>\n",
       "      <td>0.0986</td>\n",
       "      <td>0.1539</td>\n",
       "      <td>0.1601</td>\n",
       "      <td>0.3109</td>\n",
       "      <td>0.2111</td>\n",
       "      <td>...</td>\n",
       "      <td>0.0027</td>\n",
       "      <td>0.0065</td>\n",
       "      <td>0.0159</td>\n",
       "      <td>0.0072</td>\n",
       "      <td>0.0167</td>\n",
       "      <td>0.0180</td>\n",
       "      <td>0.0084</td>\n",
       "      <td>0.0090</td>\n",
       "      <td>0.0032</td>\n",
       "      <td>R</td>\n",
       "    </tr>\n",
       "    <tr>\n",
       "      <th>1</th>\n",
       "      <td>0.0453</td>\n",
       "      <td>0.0523</td>\n",
       "      <td>0.0843</td>\n",
       "      <td>0.0689</td>\n",
       "      <td>0.1183</td>\n",
       "      <td>0.2583</td>\n",
       "      <td>0.2156</td>\n",
       "      <td>0.3481</td>\n",
       "      <td>0.3337</td>\n",
       "      <td>0.2872</td>\n",
       "      <td>...</td>\n",
       "      <td>0.0084</td>\n",
       "      <td>0.0089</td>\n",
       "      <td>0.0048</td>\n",
       "      <td>0.0094</td>\n",
       "      <td>0.0191</td>\n",
       "      <td>0.0140</td>\n",
       "      <td>0.0049</td>\n",
       "      <td>0.0052</td>\n",
       "      <td>0.0044</td>\n",
       "      <td>R</td>\n",
       "    </tr>\n",
       "    <tr>\n",
       "      <th>2</th>\n",
       "      <td>0.0262</td>\n",
       "      <td>0.0582</td>\n",
       "      <td>0.1099</td>\n",
       "      <td>0.1083</td>\n",
       "      <td>0.0974</td>\n",
       "      <td>0.2280</td>\n",
       "      <td>0.2431</td>\n",
       "      <td>0.3771</td>\n",
       "      <td>0.5598</td>\n",
       "      <td>0.6194</td>\n",
       "      <td>...</td>\n",
       "      <td>0.0232</td>\n",
       "      <td>0.0166</td>\n",
       "      <td>0.0095</td>\n",
       "      <td>0.0180</td>\n",
       "      <td>0.0244</td>\n",
       "      <td>0.0316</td>\n",
       "      <td>0.0164</td>\n",
       "      <td>0.0095</td>\n",
       "      <td>0.0078</td>\n",
       "      <td>R</td>\n",
       "    </tr>\n",
       "    <tr>\n",
       "      <th>3</th>\n",
       "      <td>0.0100</td>\n",
       "      <td>0.0171</td>\n",
       "      <td>0.0623</td>\n",
       "      <td>0.0205</td>\n",
       "      <td>0.0205</td>\n",
       "      <td>0.0368</td>\n",
       "      <td>0.1098</td>\n",
       "      <td>0.1276</td>\n",
       "      <td>0.0598</td>\n",
       "      <td>0.1264</td>\n",
       "      <td>...</td>\n",
       "      <td>0.0121</td>\n",
       "      <td>0.0036</td>\n",
       "      <td>0.0150</td>\n",
       "      <td>0.0085</td>\n",
       "      <td>0.0073</td>\n",
       "      <td>0.0050</td>\n",
       "      <td>0.0044</td>\n",
       "      <td>0.0040</td>\n",
       "      <td>0.0117</td>\n",
       "      <td>R</td>\n",
       "    </tr>\n",
       "    <tr>\n",
       "      <th>4</th>\n",
       "      <td>0.0762</td>\n",
       "      <td>0.0666</td>\n",
       "      <td>0.0481</td>\n",
       "      <td>0.0394</td>\n",
       "      <td>0.0590</td>\n",
       "      <td>0.0649</td>\n",
       "      <td>0.1209</td>\n",
       "      <td>0.2467</td>\n",
       "      <td>0.3564</td>\n",
       "      <td>0.4459</td>\n",
       "      <td>...</td>\n",
       "      <td>0.0031</td>\n",
       "      <td>0.0054</td>\n",
       "      <td>0.0105</td>\n",
       "      <td>0.0110</td>\n",
       "      <td>0.0015</td>\n",
       "      <td>0.0072</td>\n",
       "      <td>0.0048</td>\n",
       "      <td>0.0107</td>\n",
       "      <td>0.0094</td>\n",
       "      <td>R</td>\n",
       "    </tr>\n",
       "  </tbody>\n",
       "</table>\n",
       "<p>5 rows × 61 columns</p>\n",
       "</div>"
      ],
      "text/plain": [
       "       0       1       2       3       4       5       6       7       8   \\\n",
       "0  0.0200  0.0371  0.0428  0.0207  0.0954  0.0986  0.1539  0.1601  0.3109   \n",
       "1  0.0453  0.0523  0.0843  0.0689  0.1183  0.2583  0.2156  0.3481  0.3337   \n",
       "2  0.0262  0.0582  0.1099  0.1083  0.0974  0.2280  0.2431  0.3771  0.5598   \n",
       "3  0.0100  0.0171  0.0623  0.0205  0.0205  0.0368  0.1098  0.1276  0.0598   \n",
       "4  0.0762  0.0666  0.0481  0.0394  0.0590  0.0649  0.1209  0.2467  0.3564   \n",
       "\n",
       "       9   ...      51      52      53      54      55      56      57  \\\n",
       "0  0.2111  ...  0.0027  0.0065  0.0159  0.0072  0.0167  0.0180  0.0084   \n",
       "1  0.2872  ...  0.0084  0.0089  0.0048  0.0094  0.0191  0.0140  0.0049   \n",
       "2  0.6194  ...  0.0232  0.0166  0.0095  0.0180  0.0244  0.0316  0.0164   \n",
       "3  0.1264  ...  0.0121  0.0036  0.0150  0.0085  0.0073  0.0050  0.0044   \n",
       "4  0.4459  ...  0.0031  0.0054  0.0105  0.0110  0.0015  0.0072  0.0048   \n",
       "\n",
       "       58      59  60  \n",
       "0  0.0090  0.0032   R  \n",
       "1  0.0052  0.0044   R  \n",
       "2  0.0095  0.0078   R  \n",
       "3  0.0040  0.0117   R  \n",
       "4  0.0107  0.0094   R  \n",
       "\n",
       "[5 rows x 61 columns]"
      ]
     },
     "execution_count": 4,
     "metadata": {},
     "output_type": "execute_result"
    }
   ],
   "source": [
    "data.head()"
   ]
  },
  {
   "cell_type": "markdown",
   "metadata": {},
   "source": [
    "You can also check the null values. You can use .info() that you learned from the previous labs.\n",
    "\n",
    "* DataFrame.info()"
   ]
  },
  {
   "cell_type": "code",
   "execution_count": 5,
   "metadata": {
    "scrolled": true,
    "tags": []
   },
   "outputs": [
    {
     "name": "stdout",
     "output_type": "stream",
     "text": [
      "<class 'pandas.core.frame.DataFrame'>\n",
      "RangeIndex: 208 entries, 0 to 207\n",
      "Data columns (total 61 columns):\n",
      " #   Column  Non-Null Count  Dtype  \n",
      "---  ------  --------------  -----  \n",
      " 0   0       208 non-null    float64\n",
      " 1   1       208 non-null    float64\n",
      " 2   2       208 non-null    float64\n",
      " 3   3       208 non-null    float64\n",
      " 4   4       208 non-null    float64\n",
      " 5   5       208 non-null    float64\n",
      " 6   6       208 non-null    float64\n",
      " 7   7       208 non-null    float64\n",
      " 8   8       208 non-null    float64\n",
      " 9   9       208 non-null    float64\n",
      " 10  10      208 non-null    float64\n",
      " 11  11      208 non-null    float64\n",
      " 12  12      208 non-null    float64\n",
      " 13  13      208 non-null    float64\n",
      " 14  14      208 non-null    float64\n",
      " 15  15      208 non-null    float64\n",
      " 16  16      208 non-null    float64\n",
      " 17  17      208 non-null    float64\n",
      " 18  18      208 non-null    float64\n",
      " 19  19      208 non-null    float64\n",
      " 20  20      208 non-null    float64\n",
      " 21  21      208 non-null    float64\n",
      " 22  22      208 non-null    float64\n",
      " 23  23      208 non-null    float64\n",
      " 24  24      208 non-null    float64\n",
      " 25  25      208 non-null    float64\n",
      " 26  26      208 non-null    float64\n",
      " 27  27      208 non-null    float64\n",
      " 28  28      208 non-null    float64\n",
      " 29  29      208 non-null    float64\n",
      " 30  30      208 non-null    float64\n",
      " 31  31      208 non-null    float64\n",
      " 32  32      208 non-null    float64\n",
      " 33  33      208 non-null    float64\n",
      " 34  34      208 non-null    float64\n",
      " 35  35      208 non-null    float64\n",
      " 36  36      208 non-null    float64\n",
      " 37  37      208 non-null    float64\n",
      " 38  38      208 non-null    float64\n",
      " 39  39      208 non-null    float64\n",
      " 40  40      208 non-null    float64\n",
      " 41  41      208 non-null    float64\n",
      " 42  42      208 non-null    float64\n",
      " 43  43      208 non-null    float64\n",
      " 44  44      208 non-null    float64\n",
      " 45  45      208 non-null    float64\n",
      " 46  46      208 non-null    float64\n",
      " 47  47      208 non-null    float64\n",
      " 48  48      208 non-null    float64\n",
      " 49  49      208 non-null    float64\n",
      " 50  50      208 non-null    float64\n",
      " 51  51      208 non-null    float64\n",
      " 52  52      208 non-null    float64\n",
      " 53  53      208 non-null    float64\n",
      " 54  54      208 non-null    float64\n",
      " 55  55      208 non-null    float64\n",
      " 56  56      208 non-null    float64\n",
      " 57  57      208 non-null    float64\n",
      " 58  58      208 non-null    float64\n",
      " 59  59      208 non-null    float64\n",
      " 60  60      208 non-null    object \n",
      "dtypes: float64(60), object(1)\n",
      "memory usage: 99.2+ KB\n"
     ]
    }
   ],
   "source": [
    "data.info()"
   ]
  },
  {
   "cell_type": "markdown",
   "metadata": {},
   "source": [
    "There is also isnull() function to check nulls in the dataframe.\n",
    "\n",
    "* isnull().sum() will return column-wise summation of `True`s.\n",
    "* isnull().sum().sum() will finally return how many nulls are in the datset."
   ]
  },
  {
   "cell_type": "code",
   "execution_count": 6,
   "metadata": {},
   "outputs": [
    {
     "data": {
      "text/plain": [
       "0"
      ]
     },
     "execution_count": 6,
     "metadata": {},
     "output_type": "execute_result"
    }
   ],
   "source": [
    "data.isnull().sum().sum()"
   ]
  },
  {
   "cell_type": "markdown",
   "metadata": {},
   "source": [
    "Our dataframe has both attributes (0-59) and labels (60) together in itself. However, scikit-learn requires that labels and data attributes should be separated. Let's separate the data labels from the dataset."
   ]
  },
  {
   "cell_type": "code",
   "execution_count": 7,
   "metadata": {
    "scrolled": true
   },
   "outputs": [],
   "source": [
    "X = data.drop(60, axis=1)"
   ]
  },
  {
   "cell_type": "code",
   "execution_count": 8,
   "metadata": {},
   "outputs": [],
   "source": [
    "y = data.iloc[:, -1]\n",
    "y = data[60]"
   ]
  },
  {
   "cell_type": "markdown",
   "metadata": {},
   "source": [
    "Next, we will split the dataset into two sets: training and test sets. Since we will not apply any validation strategy, such as k-fold cross-validation, splitting the whole dataset into two sets will be enough.\n",
    "\n",
    "To do this, we can manually pick some part of the data to create two different subsets. However, scikit-learn also provides one method for this job. We will use the **train_test_split** function in scikit_learn in the **model_selection** package."
   ]
  },
  {
   "cell_type": "code",
   "execution_count": 10,
   "metadata": {},
   "outputs": [],
   "source": [
    "from sklearn.model_selection import train_test_split"
   ]
  },
  {
   "cell_type": "markdown",
   "metadata": {},
   "source": [
    "This method divides the entire dataset into a training set and a test set. To do this, we need to specify required parameters such as our data attributes (X) and labels (y) and what percent we want to have for the test set (test_size). This method also has optional parameters such as 1) whether we want to allow shuffling (shuffle), 2) random state (random_state), or 3) whether we want to keep the label's proportions when we divide the data (stratify).\n",
    "\n",
    "Here we will divide the training and test sets with a 70:30 ratio.\n",
    "\n",
    "* Specify X, y, test_size, random_state, stratify"
   ]
  },
  {
   "cell_type": "code",
   "execution_count": null,
   "metadata": {},
   "outputs": [],
   "source": [
    "X_train, X_test, y_train, y_test = train_test_split(X, y, test_size=0.3, random_state=RANDOM_SEED, stratify=y)"
   ]
  },
  {
   "cell_type": "markdown",
   "metadata": {},
   "source": [
    "#### Perceptron"
   ]
  },
  {
   "cell_type": "markdown",
   "metadata": {},
   "source": [
    "The first algorithm we are going to make is **Perceptron**. Perceptron is a binary classifier having one weight (w) and one bias (b) value $w∙x+b$. You can also regard it as a single neuron classifier.\n",
    "\n",
    "* Scikit-learn has perceptron as its built-in function."
   ]
  },
  {
   "cell_type": "markdown",
   "metadata": {},
   "source": [
    "**Perceptron** is in the linear_model package of scikit_learn."
   ]
  },
  {
   "cell_type": "code",
   "execution_count": null,
   "metadata": {},
   "outputs": [],
   "source": [
    "from sklearn.linear_model import Perceptron"
   ]
  },
  {
   "cell_type": "markdown",
   "metadata": {},
   "source": [
    "To perform analysis, we first need to make an instance by calling a class **Perceptron**. It receives few parameters, which can be found [here](https://scikit-learn.org/stable/modules/generated/sklearn.linear_model.Perceptron.html). Since we are trying a basic perceptron we learned from the lecture, we do not need to put all the parameters scikit-learn supports. We will not use any regularization or early-stopping here, but there are still some parameters we need to consider.\n",
    "\n",
    "- max_iter: Perceptron can converge or cannot converge; it depends on the dataset. So we can at least set some reasonable maximum iteration.\n",
    "- fit_intercept: Perceptron can have intercept (or bias) value or not. You can state it here (True/False).\n",
    "- tol: Since it is also possible that Perceptron is not converged forever, we can state a stopping criterion. The iteration will stop when loss > previous_loss - tol.\n",
    "- shuffle: We can shuffle the training data with each iteration."
   ]
  },
  {
   "cell_type": "markdown",
   "metadata": {},
   "source": [
    "You can firstly create our instance with the following options:\n",
    "\n",
    "* maximum iteration = 100.\n",
    "* without shuffling.\n",
    "* without a tol value."
   ]
  },
  {
   "cell_type": "code",
   "execution_count": null,
   "metadata": {},
   "outputs": [],
   "source": [
    "ppn = Perceptron(max_iter=100, tol=None, shuffle = False)"
   ]
  },
  {
   "cell_type": "markdown",
   "metadata": {},
   "source": [
    "Since we already have prepared our training data (X_train, y_train), we can call **fit** function with those variables."
   ]
  },
  {
   "cell_type": "code",
   "execution_count": null,
   "metadata": {},
   "outputs": [],
   "source": [
    "ppn.fit(X_train, y_train)"
   ]
  },
  {
   "cell_type": "markdown",
   "metadata": {},
   "source": [
    "Now our model has trained its weights and bias and this information is stored in our instance **ppn**. Now we can get a *test error* on our test set by calling the **score** method, and check the predicted labels by calling the **predict** method."
   ]
  },
  {
   "cell_type": "code",
   "execution_count": null,
   "metadata": {},
   "outputs": [],
   "source": [
    "ppn.score(X_test, y_test)"
   ]
  },
  {
   "cell_type": "code",
   "execution_count": null,
   "metadata": {},
   "outputs": [],
   "source": [
    "ppn.predict(X_test)"
   ]
  },
  {
   "cell_type": "markdown",
   "metadata": {},
   "source": [
    "If we set the **tol** parameter, the algorithm might finish earlier than our maximum iteration. We can also check it as it is stored in *n_iter_* variable in our instance."
   ]
  },
  {
   "cell_type": "code",
   "execution_count": null,
   "metadata": {},
   "outputs": [],
   "source": [
    "ppn.n_iter_"
   ]
  },
  {
   "cell_type": "code",
   "execution_count": null,
   "metadata": {},
   "outputs": [],
   "source": [
    "ppn = Perceptron(max_iter=100, tol=0.1, shuffle = False)\n",
    "ppn.fit(X_train, y_train)\n",
    "ppn.n_iter_"
   ]
  },
  {
   "cell_type": "markdown",
   "metadata": {},
   "source": [
    "#### K-nearest neighbors"
   ]
  },
  {
   "cell_type": "markdown",
   "metadata": {},
   "source": [
    "The next algorithm we will try is k-nearest neighbors (kNN). In scikit-learn, all methods and processes we need are entirely the same. The only change is when we create an instance because different models will have different parameters. We can find kNN in the **neighbors** package of scikit-learn."
   ]
  },
  {
   "cell_type": "code",
   "execution_count": null,
   "metadata": {},
   "outputs": [],
   "source": [
    "from sklearn.neighbors import KNeighborsClassifier"
   ]
  },
  {
   "cell_type": "markdown",
   "metadata": {},
   "source": [
    "kNN is a simple algorithm having a small number of parameters. Detailed information can be found [here](https://scikit-learn.org/stable/modules/generated/sklearn.neighbors.KNeighborsClassifier.html). However, we will only focus on the number of neighbors now as it is a critical factor of the algorithm's performance. We can do some experiments by changing the parameter. Besides that, you can also change the distance function from Euclidean to something else (p), and also, you can put more weight on the closest neighbor if the case is the numerical prediction (weights). Supported distance measures and other parameter information can be found on the official page.\n",
    "\n",
    "* Create a new instance of KNeighborsClassifier with n_neighbors=3"
   ]
  },
  {
   "cell_type": "code",
   "execution_count": null,
   "metadata": {},
   "outputs": [],
   "source": [
    "neigh = KNeighborsClassifier(n_neighbors=3)"
   ]
  },
  {
   "cell_type": "markdown",
   "metadata": {},
   "source": [
    "After making the instance, we can train and test our algorithm in the same way as Perceptron. We can use **fit** for training, **score** to get test accuracy, and **predict** to get the predicted labels of the test dataset.\n",
    "- Fit the classifier to `X_train` and `y_train`."
   ]
  },
  {
   "cell_type": "code",
   "execution_count": null,
   "metadata": {},
   "outputs": [],
   "source": [
    "neigh.fit(X_train, y_train)"
   ]
  },
  {
   "cell_type": "markdown",
   "metadata": {},
   "source": [
    "- Return a classification score of the trained model on `X_test` and `y_test`."
   ]
  },
  {
   "cell_type": "code",
   "execution_count": null,
   "metadata": {},
   "outputs": [],
   "source": [
    "neigh.score(X_test, y_test)"
   ]
  },
  {
   "cell_type": "markdown",
   "metadata": {},
   "source": [
    "- Print predicted labels of `X_test`."
   ]
  },
  {
   "cell_type": "code",
   "execution_count": null,
   "metadata": {},
   "outputs": [],
   "source": [
    "neigh.predict(X_test)"
   ]
  },
  {
   "cell_type": "markdown",
   "metadata": {},
   "source": [
    "#### Decision tree"
   ]
  },
  {
   "cell_type": "markdown",
   "metadata": {},
   "source": [
    "Let's deal with the **decision tree**. When running a decision tree using scikit-learn, the process after creating an instance is again the same as other classifiers. Therefore, the most important thing is understanding the parameters for each model to correctly create a new instance. You can find a normal decision tree in the **tree** package."
   ]
  },
  {
   "cell_type": "code",
   "execution_count": null,
   "metadata": {},
   "outputs": [],
   "source": [
    "from sklearn.tree import DecisionTreeClassifier"
   ]
  },
  {
   "cell_type": "markdown",
   "metadata": {},
   "source": [
    "To just create one decision tree instance, we do not need to put any parameter as DecisionTreeClassifier has default options for every parameter it has. The parameters are used to constraint the tree by limiting the maximum depth or minimum samples to split. There is no very optimal set of parameters that can be applied to all cases, so we may need to optimize it by running further optimization techniques such as *grid search*, which we will look into in the next lab. Here we are going to use a normal decision tree without specifying any parameter. Due to its randomness inside, we still need to state random state.\n",
    "\n",
    "- Create a new instance of DecisionTreeClassifier with random_state=RANDOM_SEED"
   ]
  },
  {
   "cell_type": "code",
   "execution_count": null,
   "metadata": {},
   "outputs": [],
   "source": [
    "dtc = DecisionTreeClassifier(random_state = RANDOM_SEED)"
   ]
  },
  {
   "cell_type": "markdown",
   "metadata": {},
   "source": [
    "After making the instance, we can train and test our algorithm in the same way as Perceptron. We can use **fit** for training, **score** to get test accuracy, and **predict** to get the predicted labels of the test dataset.\n",
    "\n",
    "- Fit the classifier to `X_train` and `y_train`."
   ]
  },
  {
   "cell_type": "code",
   "execution_count": null,
   "metadata": {},
   "outputs": [],
   "source": [
    "dtc.fit(X_train, y_train)"
   ]
  },
  {
   "cell_type": "markdown",
   "metadata": {},
   "source": [
    "- Return a classification score of the trained model on `X_test` and `y_test`."
   ]
  },
  {
   "cell_type": "code",
   "execution_count": null,
   "metadata": {},
   "outputs": [],
   "source": [
    "dtc.score(X_test, y_test)"
   ]
  },
  {
   "cell_type": "markdown",
   "metadata": {},
   "source": [
    "- Print predicted labels of `X_test`."
   ]
  },
  {
   "cell_type": "code",
   "execution_count": null,
   "metadata": {},
   "outputs": [],
   "source": [
    "dtc.predict(X_test)"
   ]
  },
  {
   "cell_type": "markdown",
   "metadata": {},
   "source": [
    "#### Support vector machines"
   ]
  },
  {
   "cell_type": "markdown",
   "metadata": {},
   "source": [
    "Scikit-learn offers a variety of support vector machine algorithms: SVC, NuSVC, and LinearSVC. SVC is a basic form of support vector machine supporting various kernels, while LinearSVC forms a linear boundary without a kernel (You can find more [here](https://scikit-learn.org/stable/modules/svm.html)). NuSVC is similar to SVC, but the biggest feature of it is that we can adjust the number of support vectors. All these three classifiers are available in the **SVM** package, and in this lab, we will use SVC."
   ]
  },
  {
   "cell_type": "code",
   "execution_count": null,
   "metadata": {},
   "outputs": [],
   "source": [
    "from sklearn.svm import SVC"
   ]
  },
  {
   "cell_type": "markdown",
   "metadata": {},
   "source": [
    "**SVC** has a lot of parameters, similar to the decision tree we have seen earlier. Many parameters are used to fine-tune the model. One important parameter here is **C**, a regularization factor. This value is an indicator of how much the training set of the SVM can cover. The larger C, the smaller SVM's margin area, which means that the training set's fitting ability to the training set becomes stronger than before. Therefore, it is important to find C that can give the right level of regularization."
   ]
  },
  {
   "cell_type": "markdown",
   "metadata": {},
   "source": [
    "We can plot the iris dataset by differing C. This lab includes a function from the scikit-learn user guide website, which shows the decision boundary of an SVC model. We can try to apply various C values and see the difference."
   ]
  },
  {
   "cell_type": "markdown",
   "metadata": {},
   "source": [
    "- Please import **plot_iris** function by running this block below."
   ]
  },
  {
   "cell_type": "code",
   "execution_count": null,
   "metadata": {},
   "outputs": [],
   "source": [
    "from dami_dsv.supervised_learning.plot_iris import plot_iris"
   ]
  },
  {
   "cell_type": "markdown",
   "metadata": {},
   "source": [
    "You can freely change the value of C and see differences."
   ]
  },
  {
   "cell_type": "code",
   "execution_count": null,
   "metadata": {},
   "outputs": [],
   "source": [
    "plot_iris(C=100.0)"
   ]
  },
  {
   "cell_type": "code",
   "execution_count": null,
   "metadata": {},
   "outputs": [],
   "source": [
    "plot_iris(C=5.0)"
   ]
  },
  {
   "cell_type": "code",
   "execution_count": null,
   "metadata": {},
   "outputs": [],
   "source": [
    "plot_iris(C=0.1)"
   ]
  },
  {
   "cell_type": "markdown",
   "metadata": {},
   "source": [
    "Now we can apply SVM to our dataset. There are many available kernels that scikit-learn supports, but we will use the RBF kernel, set as a default in scikit-learn. We will have a chance to deal with other kernels in the upcoming assignment."
   ]
  },
  {
   "cell_type": "code",
   "execution_count": null,
   "metadata": {},
   "outputs": [],
   "source": [
    "svc = SVC(gamma=\"scale\")"
   ]
  },
  {
   "cell_type": "markdown",
   "metadata": {},
   "source": [
    "- Fit the classifier to `X_train` and `y_train`."
   ]
  },
  {
   "cell_type": "code",
   "execution_count": null,
   "metadata": {},
   "outputs": [],
   "source": [
    "svc.fit(X_train, y_train)"
   ]
  },
  {
   "cell_type": "markdown",
   "metadata": {},
   "source": [
    "- Return a classification score of the trained model on `X_test` and `y_test`."
   ]
  },
  {
   "cell_type": "code",
   "execution_count": null,
   "metadata": {},
   "outputs": [],
   "source": [
    "svc.score(X_test, y_test)"
   ]
  },
  {
   "cell_type": "markdown",
   "metadata": {},
   "source": [
    "- Print predicted labels of `X_test`."
   ]
  },
  {
   "cell_type": "code",
   "execution_count": null,
   "metadata": {},
   "outputs": [],
   "source": [
    "svc.predict(X_test)"
   ]
  },
  {
   "cell_type": "markdown",
   "metadata": {},
   "source": [
    "You can change C and see the difference in the test score."
   ]
  },
  {
   "cell_type": "code",
   "execution_count": null,
   "metadata": {},
   "outputs": [],
   "source": [
    "svc2 = SVC(C = 5, gamma=\"scale\")\n",
    "svc2.fit(X_train, y_train)\n",
    "svc2.score(X_test, y_test)"
   ]
  },
  {
   "cell_type": "markdown",
   "metadata": {},
   "source": [
    "When we give too much space for the margin, SVM can be underfitted and lose enough classification power. Too much generalization cannot always be good."
   ]
  },
  {
   "cell_type": "code",
   "execution_count": null,
   "metadata": {},
   "outputs": [],
   "source": [
    "svc3 = SVC(C = 0.1, gamma=\"scale\")\n",
    "svc3.fit(X_train, y_train)\n",
    "svc3.score(X_test, y_test)"
   ]
  },
  {
   "cell_type": "markdown",
   "metadata": {},
   "source": [
    "## 3-2. Manual implementation"
   ]
  },
  {
   "cell_type": "markdown",
   "metadata": {},
   "source": [
    "Now it is time to implement some algorithms we tried in this lab manually. It will give you a more robust understanding of the algorithm. We are going to implement simple ones: **perceptron** and **kNN**.\n",
    "\n",
    "In those implementations, we use the **class** notation and **self** variables inside. This structure is made to give you the same experience with scikit-learn when testing. You only use **self** here to call the methods defined in the class structure or to access the class variable defined by self inside the class. The class-based structure will not appear in the assignment."
   ]
  },
  {
   "cell_type": "markdown",
   "metadata": {},
   "source": [
    "#### Perceptron"
   ]
  },
  {
   "cell_type": "markdown",
   "metadata": {},
   "source": [
    "Before implementing perceptron, we need to change the letter classes into numbers as perceptron assumes that it receives binary numeric classes."
   ]
  },
  {
   "cell_type": "code",
   "execution_count": null,
   "metadata": {},
   "outputs": [],
   "source": [
    "y_train_numeric = y_train.replace(['M', 'R'], [0, 1])\n",
    "y_test_numeric = y_test.replace(['M', 'R'], [0, 1])"
   ]
  },
  {
   "cell_type": "markdown",
   "metadata": {},
   "source": [
    "Here we already have a basic structure of our new perceptron classifier! It has the same structure with scikit-learn's one, so we can test our model in the same way as perceptron in Pandas after finishing the development."
   ]
  },
  {
   "cell_type": "code",
   "execution_count": null,
   "metadata": {},
   "outputs": [],
   "source": [
    "class Perceptron():\n",
    "    def __init__(self, max_iter):\n",
    "        \"\"\"\n",
    "        A constructor that receives parameters and save them into member variables.\n",
    "        You will receive max_iter value and need to save into self.max_iter.\n",
    "\n",
    "        Input:\n",
    "          max_iter: The maximum iteration of the algorithm.\n",
    "        Output:\n",
    "          None.\n",
    "        \"\"\"\n",
    "        return\n",
    "    \n",
    "    def fit(self, X, y):\n",
    "        \"\"\"\n",
    "        A method to train the model by receiving the training dataset and labels.\n",
    "        \n",
    "        Input:\n",
    "          X: Training dataset.\n",
    "          y: Training labels.\n",
    "\n",
    "        Output:\n",
    "          None.\n",
    "          \n",
    "        \"\"\"    \n",
    "        #- Step 1: The algorithm needs to set an empty list of size |attributes|+1 to save our weights (vector w) and bias (b).\n",
    "        #          The additional value is used for intercept (or bias) value of the perceptron classifier.\n",
    "        self.w = None\n",
    "        \n",
    "        #- Step 2: The algorithm iterates self.max_iter times and train the model.\n",
    "        for _ in range(None):\n",
    "        \n",
    "        #- Step 3: For each iteration, we traverse all rows in our dataset and predict the label of each row \n",
    "        #          by calling self.predict method.\n",
    "        #          We can calculate the 'error' to check whether our prediction was correct or not,\n",
    "        #          by substracting a predicted label from a true label.\n",
    "        #          \n",
    "            for _, _ in None:\n",
    "                prediction = None\n",
    "                error = None\n",
    "        \n",
    "        #- Step 4: When prediction was wrong, we update the weights by adding [error*row] to the previous weights. \n",
    "        #          For intercept value, we update it by simply adding the error to the previous value.\n",
    "        #          Assign the values to self.w so we can use the updated version in the next iteration.\n",
    "        \n",
    "                self.w[0] = self.w[0] + error\n",
    "                self.w[1:] = self.w[1:] + error * row\n",
    "        \n",
    "        return\n",
    "                \n",
    "    def predict(self, d1):\n",
    "        \"\"\"\n",
    "        A method to predict a label with trained weights.\n",
    "\n",
    "        Input:\n",
    "          row: A single row from dataset.\n",
    "        Output:\n",
    "          Binary integer (0 or 1).\n",
    "        \"\"\"\n",
    "        \n",
    "        #- Step 1: We calculate the dot product of our weights (self.w) and the given row.\n",
    "        #          For the bias value, we multiply this value by one since we do not have any value in the received row.\n",
    "        \n",
    "        act = self.w[0]\n",
    "        act += self.w[1:].dot(row)\n",
    "        \n",
    "        #- Step 2: If the dot product is bigger than or equal to zero, return 1. Otherwise, return 0.\n",
    "        \n",
    "        if act >= 0:\n",
    "            return 1\n",
    "        else: return 0\n",
    "        \n",
    "    def score(self, X, y):\n",
    "        \"\"\"\n",
    "        A method to calculate an accuracy score of a received dataset X and labels Y.\n",
    "\n",
    "        Input:\n",
    "          X: Dataset that we want to calculate scores.\n",
    "          y: True labels for the dataset X.\n",
    "\n",
    "        Output:\n",
    "          score: An accuracy with a range of [0, 1].\n",
    "\n",
    "        \"\"\"\n",
    "        \n",
    "        #- Step 1: Set the initial loss value to zero.\n",
    "        \n",
    "        loss = 0\n",
    "        \n",
    "        #- Step 2: We traverse all rows in our dataset and predict the label of each row\n",
    "        #          by calling self.predict method. If the label is different (prediction was wrong),\n",
    "        #          we add one to the loss value.\n",
    "        for idx, row in X.iterrows():\n",
    "            prediction = self.predict(row)\n",
    "            \n",
    "            if (y[idx] - prediction) != 0:\n",
    "                loss += 1\n",
    "        \n",
    "        #- Step 3: Calculate the accuracy score: Divide the summed loss value by the size of the dataset\n",
    "        #          and substract it from one.\n",
    "        \n",
    "        accuracy = 1 - loss/len(y)\n",
    "        \n",
    "        #- Step 4: Return the accuracy score.\n",
    "        return accuracy\n",
    "    "
   ]
  },
  {
   "cell_type": "markdown",
   "metadata": {},
   "source": [
    "ANSWER"
   ]
  },
  {
   "cell_type": "code",
   "execution_count": null,
   "metadata": {},
   "outputs": [],
   "source": [
    "class Perceptron():\n",
    "    def __init__(self, max_iter):\n",
    "        self.max_iter = max_iter\n",
    "        \n",
    "    def fit(self, X, y):\n",
    "        self.w = np.zeros(len(X.iloc[0])+1)\n",
    "        for it in range(self.max_iter):\n",
    "            loss = 0\n",
    "            for idx, row in X.iterrows():\n",
    "                prediction = self.predict(row)\n",
    "                error = y[idx] - prediction\n",
    "                loss += error\n",
    "                self.w[0] = self.w[0] + error\n",
    "                self.w[1:] = self.w[1:] + error * row\n",
    "                \n",
    "    def predict(self, row):\n",
    "        act = self.w[0]\n",
    "        act += self.w[1:].dot(row)\n",
    "        if act >= 0:\n",
    "            return 1\n",
    "        else: return 0\n",
    "    \n",
    "    def score(self, X, y):\n",
    "        loss = 0\n",
    "        for idx, row in X.iterrows():\n",
    "            prediction = self.predict(row)\n",
    "            error = y[idx] - prediction\n",
    "            loss += abs(error)\n",
    "        return 1 - loss/len(y)"
   ]
  },
  {
   "cell_type": "markdown",
   "metadata": {},
   "source": [
    "Now we are done with implementation! Then we can create the instance, train the model, and test it in the same way!\n",
    "\n",
    "Run the codes below to check the result of the algorithm."
   ]
  },
  {
   "cell_type": "code",
   "execution_count": null,
   "metadata": {},
   "outputs": [],
   "source": [
    "p = Perceptron(max_iter=100)"
   ]
  },
  {
   "cell_type": "code",
   "execution_count": null,
   "metadata": {},
   "outputs": [],
   "source": [
    "p.fit(X_train, y_train_numeric)"
   ]
  },
  {
   "cell_type": "markdown",
   "metadata": {},
   "source": [
    "Now, let's check the score is the same as the one we got from scikit-learn that we already tried in the lab."
   ]
  },
  {
   "cell_type": "code",
   "execution_count": null,
   "metadata": {},
   "outputs": [],
   "source": [
    "p.score(X_test, y_test_numeric)"
   ]
  },
  {
   "cell_type": "markdown",
   "metadata": {},
   "source": [
    "#### kNN"
   ]
  },
  {
   "cell_type": "markdown",
   "metadata": {},
   "source": [
    "Now it is kNN's turn. To implement kNN easier, we may need **Counter**, one of the built-in data structures in Python collections. It is okay if you do not know it, but it makes your job much easier! If you want to know it, refer to Python's official document [here](https://docs.python.org/3/library/collections.html#counter-objects)."
   ]
  },
  {
   "cell_type": "code",
   "execution_count": null,
   "metadata": {},
   "outputs": [],
   "source": [
    "from collections import Counter"
   ]
  },
  {
   "cell_type": "markdown",
   "metadata": {},
   "source": [
    "We will use the same structure again so that we can test in the same way!"
   ]
  },
  {
   "cell_type": "code",
   "execution_count": null,
   "metadata": {},
   "outputs": [],
   "source": [
    "class KNN:\n",
    "    def __init__(self, n_neighbors):\n",
    "        \"\"\"\n",
    "        A constructor that receives parameters and save them into member variables.\n",
    "        You will receive n_neighbors value and need to save into self.n_neighbors.\n",
    "\n",
    "        Input:\n",
    "          n_neighbors: Number of neighbors to look when we predict.\n",
    "        Output:\n",
    "          None.\n",
    "        \"\"\"\n",
    "        self.n_neighbors = None\n",
    "        \n",
    "        return\n",
    "        \n",
    "    def fit(self, X, y):\n",
    "        \"\"\"\n",
    "        A method to train the model by receiving the training dataset and labels.\n",
    "\n",
    "        - Step 1: Since there is no training process in KNN algorithm, we can just save the dataset and labels into\n",
    "                  the member variables self.X, self.y.\n",
    "                  \n",
    "        Input:\n",
    "          X: Training dataset.\n",
    "          y: Training labels.\n",
    "\n",
    "        Output:\n",
    "          None.\n",
    "        \"\"\"\n",
    "        self.X = None\n",
    "        self.y = None\n",
    "        \n",
    "        return None\n",
    "    \n",
    "    def euclidean_dist(self, d1, d2):\n",
    "        \"\"\"\n",
    "        A method to calculate an euclidean distance between two data points d1 and d2.\n",
    "\n",
    "        - Step 1: We calculate an euclidean distance, by substracting one point from the other, \n",
    "                  square it and take a squared root.\n",
    "                  \n",
    "        Input:\n",
    "          d1, d2: Data points (rows) from the dataset.\n",
    "          \n",
    "        Output:\n",
    "          distance: An euclidean distance value between d1 and d2.\n",
    "        \"\"\"\n",
    "        euclidean = None\n",
    "        return None\n",
    "        \n",
    "    def predict(self, row):\n",
    "        \"\"\"\n",
    "        A method to predict a label with trained weights.\n",
    "\n",
    "        Input:\n",
    "          row: A single row from dataset.\n",
    "        Output:\n",
    "          Binary integer (0 or 1).\n",
    "        \"\"\"\n",
    "        \n",
    "        #- Step 1: For a given row, we need to calculate distances from all data points of the training set.\n",
    "        # - To do this, create an empty list to save distances\n",
    "        distances = []\n",
    "        \n",
    "        #- Step 2: We iterate all training datasets and get [n_neighbors] nearest data points by calculating\n",
    "        #          euclidean distances from the input data point to all training datasets.\n",
    "        \n",
    "        # - iterate every row in the training set. We also need indices to recognize the rows.\n",
    "        for idx, row_train in self.X.iterrows():\n",
    "            # - calculate distance between the given row (row) and chosen row in the loop.\n",
    "            dist = self.euclidean_dist(row, row_train)\n",
    "            # - append the calculated distance to the list\n",
    "            distances.append((idx, dist))\n",
    "        \n",
    "        # sort the distances by the distance values, so we can get top k nearest neighbors\n",
    "        distances.sort(key=lambda x: x[1])\n",
    "        \n",
    "        #- Step 2: We will use the sorted list to get the labels from self.y \n",
    "        #          with the indices of [n_neighbors] nearest data points from self.X\n",
    "        #          and perform majority vote on [n_neighbors] nearest data points' labels. \n",
    "        #           In this stage, you can use collections.Counter to make this task easier.\n",
    "        \n",
    "        # - Create a list to keep the labels (y) of the chosen nearest neighbors\n",
    "        neighbors = []\n",
    "        \n",
    "        # - loop n_neighbors times and get first k (n_neighbors) labels using self.y\n",
    "        for i in range(self.n_neighbors):\n",
    "            neighbors.append(self.y[distances[i][0]])\n",
    "        \n",
    "        # - Step 3: Return the label that majority of the data points have.\n",
    "        # - Use Counter.most_common to return the most common label.\n",
    "        final_guess = Counter(neighbors).most_common(1)[0][0]\n",
    "        \n",
    "        return final_guess\n",
    "    \n",
    "    def score(self, X, y):\n",
    "        \"\"\"\n",
    "        A method to calculate an accuracy score of a received dataset X and labels Y.\n",
    "\n",
    "        Input:\n",
    "          X: Dataset that we want to calculate scores\n",
    "          y: True labels for the dataset X\n",
    "\n",
    "        Output:\n",
    "          score: An accuracy with a range of [0, 1]\n",
    "\n",
    "        \"\"\"\n",
    "        \n",
    "        #- Step 1: Set the initial loss value to zero.\n",
    "        loss = None\n",
    "        \n",
    "        #- Step 2: We traverse all rows in our dataset and predict the label of each row \n",
    "        #          by calling self.predict method. \n",
    "                \n",
    "        for idx, row in X.iterrows():\n",
    "            prediction = self.predict(row)\n",
    "            # - If the label is different (prediction was wrong), we add one to the loss value.\n",
    "            error = 1 if y[idx] == prediction else 0\n",
    "            loss += abs(error)\n",
    "        # - Step 3: Divide the loss value by a size of the dataset and substract it from one to get an accuracy score.\n",
    "        accuracy = loss/len(y)\n",
    "        # - Step 4: Return the accuracy score.\n",
    "        return loss/len(y)"
   ]
  },
  {
   "cell_type": "markdown",
   "metadata": {},
   "source": [
    "ANSWER"
   ]
  },
  {
   "cell_type": "code",
   "execution_count": null,
   "metadata": {},
   "outputs": [],
   "source": [
    "class KNN:\n",
    "    def __init__(self, n_neighbors):\n",
    "        self.n_neighbors = n_neighbors\n",
    "        \n",
    "    def fit(self, X, y):\n",
    "        self.X = X\n",
    "        self.y = y\n",
    "    \n",
    "    def euclidean_dist(self, d1, d2):\n",
    "        #print(np.sqrt(np.sum((d1 - d2)**2)))\n",
    "        return np.sqrt(np.sum((d1 - d2)**2))\n",
    "        \n",
    "    def predict(self, row):\n",
    "        distances = []\n",
    "        for idx, d2 in self.X.iterrows():\n",
    "            dist = self.euclidean_dist(row, d2)\n",
    "            distances.append((idx, dist))\n",
    "        \n",
    "        distances.sort(key=lambda x: x[1])\n",
    "        neighbors = []\n",
    "        for i in range(self.n_neighbors):\n",
    "            neighbors.append(self.y[distances[i][0]])\n",
    "        \n",
    "        final_guess = Counter(neighbors).most_common(1)[0][0]\n",
    "        return final_guess\n",
    "    \n",
    "    def score(self, X, y):\n",
    "        loss = 0\n",
    "\n",
    "        for idx, row in X.iterrows():\n",
    "            prediction = self.predict(row)\n",
    "            error = 1 if y[idx] == prediction else 0\n",
    "            loss += abs(error)\n",
    "        return loss/len(y)"
   ]
  },
  {
   "cell_type": "markdown",
   "metadata": {},
   "source": [
    "Now, let's test it and see if it returns the same score on our test dataset!"
   ]
  },
  {
   "cell_type": "code",
   "execution_count": null,
   "metadata": {},
   "outputs": [],
   "source": [
    "knn = KNN(n_neighbors = 3)"
   ]
  },
  {
   "cell_type": "code",
   "execution_count": null,
   "metadata": {},
   "outputs": [],
   "source": [
    "knn.fit(X_train, y_train)"
   ]
  },
  {
   "cell_type": "markdown",
   "metadata": {},
   "source": [
    "Now let's check the score is the same as the one we got from scikit-learn."
   ]
  },
  {
   "cell_type": "code",
   "execution_count": null,
   "metadata": {},
   "outputs": [],
   "source": [
    "knn.score(X_test, y_test)"
   ]
  },
  {
   "cell_type": "markdown",
   "metadata": {},
   "source": [
    "# END OF LAB 3"
   ]
  }
 ],
 "metadata": {
  "kernelspec": {
   "display_name": "Python 3.10.7 64-bit",
   "language": "python",
   "name": "python3"
  },
  "language_info": {
   "codemirror_mode": {
    "name": "ipython",
    "version": 3
   },
   "file_extension": ".py",
   "mimetype": "text/x-python",
   "name": "python",
   "nbconvert_exporter": "python",
   "pygments_lexer": "ipython3",
   "version": "3.10.7"
  },
  "vscode": {
   "interpreter": {
    "hash": "aee8b7b246df8f9039afb4144a1f6fd8d2ca17a180786b69acc140d282b71a49"
   }
  }
 },
 "nbformat": 4,
 "nbformat_minor": 4
}
